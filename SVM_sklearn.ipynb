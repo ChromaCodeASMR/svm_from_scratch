{
 "cells": [
  {
   "cell_type": "code",
   "execution_count": 28,
   "metadata": {},
   "outputs": [],
   "source": [
    "import pandas as pd\n",
    "import numpy as np\n",
    "\n",
    "from sklearn.svm import LinearSVC\n",
    "from sklearn.compose import ColumnTransformer\n",
    "from sklearn.pipeline import make_pipeline, Pipeline\n",
    "from sklearn.preprocessing import StandardScaler, OneHotEncoder\n",
    "from sklearn.model_selection import cross_val_score\n",
    "from sklearn.datasets import make_classification"
   ]
  },
  {
   "attachments": {},
   "cell_type": "markdown",
   "metadata": {},
   "source": [
    "Start with a toy dataset"
   ]
  },
  {
   "cell_type": "code",
   "execution_count": 20,
   "metadata": {},
   "outputs": [
    {
     "name": "stdout",
     "output_type": "stream",
     "text": [
      "[0.9  0.8  1.   0.95 0.85]\n",
      "0.9\n"
     ]
    }
   ],
   "source": [
    "X, y = make_classification(n_features=4, random_state=0)\n",
    "\n",
    "model = make_pipeline(StandardScaler(),\n",
    "                      LinearSVC(random_state=0))\n",
    "cv_scores = cross_val_score(estimator=model,\n",
    "                X=X,\n",
    "                y=y)\n",
    "print(cv_scores)\n",
    "print(np.mean(cv_scores))"
   ]
  },
  {
   "attachments": {},
   "cell_type": "markdown",
   "metadata": {},
   "source": [
    "Use the heart dataset for classification"
   ]
  },
  {
   "cell_type": "code",
   "execution_count": 30,
   "metadata": {},
   "outputs": [
    {
     "data": {
      "text/plain": [
       "Index(['Age', 'Sex', 'ChestPainType', 'RestingBP', 'Cholesterol', 'FastingBS',\n",
       "       'RestingECG', 'MaxHR', 'ExerciseAngina', 'Oldpeak', 'ST_Slope',\n",
       "       'HeartDisease'],\n",
       "      dtype='object')"
      ]
     },
     "execution_count": 30,
     "metadata": {},
     "output_type": "execute_result"
    }
   ],
   "source": [
    "full_data = pd.read_csv('heart.csv')\n",
    "full_data.columns"
   ]
  },
  {
   "cell_type": "code",
   "execution_count": 31,
   "metadata": {},
   "outputs": [],
   "source": [
    "numerical_features = ['Age', 'RestingBP', 'Cholesterol', 'FastingBS', 'MaxHR', 'Oldpeak']\n",
    "categorical_features = ['Sex', 'ChestPainType', 'RestingECG', 'ExerciseAngina', 'ST_Slope']"
   ]
  },
  {
   "cell_type": "code",
   "execution_count": 65,
   "metadata": {},
   "outputs": [
    {
     "name": "stdout",
     "output_type": "stream",
     "text": [
      "[0.85869565 0.83695652 0.8423913  0.8579235  0.75409836]\n",
      "0.8300130672368734\n"
     ]
    }
   ],
   "source": [
    "full_data = pd.read_csv('heart.csv')\n",
    "X = full_data.drop('HeartDisease', axis=1)\n",
    "y = full_data['HeartDisease']\n",
    "\n",
    "numeric_transformer = make_pipeline(StandardScaler())\n",
    "categorical_transformer = make_pipeline(OneHotEncoder())\n",
    "preprocessor = ColumnTransformer(transformers=[('num', numeric_transformer, numerical_features),\n",
    "                                               ('cat', categorical_transformer, categorical_features)])\n",
    "model = make_pipeline(preprocessor,\n",
    "                      LinearSVC(random_state=0, tol=0.0001, C=0.2, max_iter=2000))\n",
    "model.fit(X,y)\n",
    "cv_scores = cross_val_score(estimator=model,\n",
    "                X=X,\n",
    "                y=y)\n",
    "print(cv_scores)\n",
    "print(np.mean(cv_scores))"
   ]
  },
  {
   "cell_type": "code",
   "execution_count": 66,
   "metadata": {},
   "outputs": [
    {
     "data": {
      "text/plain": [
       "array([[ 0.05229119,  0.01923378, -0.14946039,  0.15294729, -0.03611324,\n",
       "         0.13054428, -0.24988617,  0.19801177,  0.36906474, -0.18575549,\n",
       "        -0.1567956 , -0.07838804,  0.02185109, -0.02535151, -0.04837399,\n",
       "        -0.17782125,  0.12594685, -0.03870253,  0.39902003, -0.4121919 ]])"
      ]
     },
     "execution_count": 66,
     "metadata": {},
     "output_type": "execute_result"
    }
   ],
   "source": [
    "model.named_steps['linearsvc'].coef_"
   ]
  },
  {
   "cell_type": "code",
   "execution_count": 67,
   "metadata": {},
   "outputs": [
    {
     "data": {
      "text/plain": [
       "array([-0.0518744])"
      ]
     },
     "execution_count": 67,
     "metadata": {},
     "output_type": "execute_result"
    }
   ],
   "source": [
    "model.named_steps['linearsvc'].intercept_"
   ]
  }
 ],
 "metadata": {
  "kernelspec": {
   "display_name": "venv",
   "language": "python",
   "name": "python3"
  },
  "language_info": {
   "codemirror_mode": {
    "name": "ipython",
    "version": 3
   },
   "file_extension": ".py",
   "mimetype": "text/x-python",
   "name": "python",
   "nbconvert_exporter": "python",
   "pygments_lexer": "ipython3",
   "version": "3.10.2"
  },
  "orig_nbformat": 4,
  "vscode": {
   "interpreter": {
    "hash": "f11478693a5c92dcc4b778bb74b7615ad36b74261a3d942dbd9c2b7499fbb2e5"
   }
  }
 },
 "nbformat": 4,
 "nbformat_minor": 2
}
